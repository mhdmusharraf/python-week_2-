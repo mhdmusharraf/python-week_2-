{
 "cells": [
  {
   "cell_type": "code",
   "execution_count": 3,
   "id": "7219ba1c",
   "metadata": {},
   "outputs": [
    {
     "name": "stdout",
     "output_type": "stream",
     "text": [
      "Enter the word: Hello\n",
      "Reversed Text:  o l l e H\n"
     ]
    }
   ],
   "source": [
    "# 1.Write a Python program to find the reverse of a string.\n",
    "text = input(\"Enter the word: \")\n",
    "char_list = list(text)\n",
    "char_list.reverse()\n",
    "reversed_text = \" \".join(char_list)\n",
    "print(\"Reversed Text: \",reversed_text)"
   ]
  },
  {
   "cell_type": "code",
   "execution_count": 6,
   "id": "2fb38b41",
   "metadata": {},
   "outputs": [
    {
     "name": "stdout",
     "output_type": "stream",
     "text": [
      "0 1 1 2 3 5 8 13 21 34 "
     ]
    }
   ],
   "source": [
    "# 2.Write a Python program to generate the Fibonacci sequence up to 10 terms.\n",
    "def fibonacci(n):\n",
    "    if n<=1:\n",
    "        return n\n",
    "    else:\n",
    "        return fibonacci(n-1)+fibonacci(n-2)\n",
    "n_terms=10\n",
    "for i in range(n_terms):\n",
    "    print(fibonacci(i),end=\" \")"
   ]
  },
  {
   "cell_type": "code",
   "execution_count": 3,
   "id": "716f45f0",
   "metadata": {},
   "outputs": [
    {
     "name": "stdout",
     "output_type": "stream",
     "text": [
      "Enter the word: Madam\n",
      "Madam is a palindrome\n"
     ]
    }
   ],
   "source": [
    "# 3.Write a Python function to check if a given string is a palindrome.\n",
    "def is_palindrome(s):\n",
    "    s = s.replace(\" \",\"\").lower()\n",
    "    return s==s[::-1]\n",
    "\n",
    "word=input(\"Enter the word: \")\n",
    "if is_palindrome(word):\n",
    "    print(word,\"is a palindrome\")\n",
    "else:\n",
    "    print(word,\"is not palnidrome\")"
   ]
  },
  {
   "cell_type": "code",
   "execution_count": 6,
   "id": "b3a6a796",
   "metadata": {},
   "outputs": [
    {
     "name": "stdout",
     "output_type": "stream",
     "text": [
      "Enter the word: Education\n",
      "Number of vowels =  5\n"
     ]
    }
   ],
   "source": [
    "# 4.Write a Python program to count the number of vowels in a given string. \n",
    "text = input(\"Enter the word: \").replace(\" \",\"\").lower()\n",
    "count = 0\n",
    "char_list = list(text)\n",
    "for ch in char_list:\n",
    "    if(ch=='a' or ch=='e' or ch=='i' or ch=='o' or ch=='u'):\n",
    "        count = count + 1\n",
    "print(\"Number of vowels = \",count)"
   ]
  },
  {
   "cell_type": "code",
   "execution_count": 9,
   "id": "93048a4c",
   "metadata": {},
   "outputs": [
    {
     "name": "stdout",
     "output_type": "stream",
     "text": [
      "Enter the numbers: 2 3 3 4 4 4 4 5 5 6 8 9\n",
      "Unique numbers:  [2, 3, 4, 5, 6, 8, 9]\n"
     ]
    }
   ],
   "source": [
    "# 5.Write a Python program to remove duplicates from a list.\n",
    "numbers = list(map(int,input(\"Enter the numbers: \").split()))\n",
    "unique_numbers = list(set(numbers))\n",
    "print(\"Unique numbers: \",unique_numbers)"
   ]
  },
  {
   "cell_type": "code",
   "execution_count": null,
   "id": "2ccb3bc8",
   "metadata": {},
   "outputs": [],
   "source": []
  }
 ],
 "metadata": {
  "kernelspec": {
   "display_name": "Python 3 (ipykernel)",
   "language": "python",
   "name": "python3"
  },
  "language_info": {
   "codemirror_mode": {
    "name": "ipython",
    "version": 3
   },
   "file_extension": ".py",
   "mimetype": "text/x-python",
   "name": "python",
   "nbconvert_exporter": "python",
   "pygments_lexer": "ipython3",
   "version": "3.9.7"
  }
 },
 "nbformat": 4,
 "nbformat_minor": 5
}
