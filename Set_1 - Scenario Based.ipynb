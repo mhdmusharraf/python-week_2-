{
 "cells": [
  {
   "cell_type": "code",
   "execution_count": 1,
   "id": "cec5b821",
   "metadata": {},
   "outputs": [
    {
     "name": "stdout",
     "output_type": "stream",
     "text": [
      "Enter the Age: 54\n",
      "Eligible to vote\n"
     ]
    }
   ],
   "source": [
    "#1. Scenario: A system checks if a user is eligible to vote based on their age.\n",
    "age = int(input(\"Enter the Age: \"))\n",
    "if(age>=18):\n",
    "    print(\"Eligible to vote\")\n",
    "else:\n",
    "    print(\"Not Eligible to vote\")"
   ]
  },
  {
   "cell_type": "code",
   "execution_count": 4,
   "id": "87397be8",
   "metadata": {},
   "outputs": [
    {
     "name": "stdout",
     "output_type": "stream",
     "text": [
      "Enter the numbers: 45 36 78 67 90 32\n",
      "Largest number is :  90\n"
     ]
    }
   ],
   "source": [
    "#2. Scenario: A program processes a list of numbers and needs to find the largest value.\n",
    "user_input = list(map(int,input(\"Enter the numbers: \").split()))\n",
    "\n",
    "large_number = user_input[0]\n",
    "\n",
    "for num in user_input[1:]:   \n",
    "    if num>large_number:\n",
    "        large_number = num\n",
    "\n",
    "print(\"Largest number is : \",large_number)"
   ]
  },
  {
   "cell_type": "code",
   "execution_count": 2,
   "id": "cc08d667",
   "metadata": {},
   "outputs": [
    {
     "name": "stdout",
     "output_type": "stream",
     "text": [
      "Enter the salary: $80000\n",
      "Bonus Amount: $ 8000.0\n",
      "Salary: $ 88000.0\n"
     ]
    }
   ],
   "source": [
    "#3. Scenario: A company provides employees with a 10% bonus if their salary exceeds $50,000.\n",
    "salary = float(input(\"Enter the salary: $\"))\n",
    "if(salary>50000):\n",
    "    bonus = salary * 0.10\n",
    "else:\n",
    "    bonus = 0\n",
    "\n",
    "print(\"Bonus Amount: $\",bonus)\n",
    "print(\"Salary: $\",bonus+salary)"
   ]
  },
  {
   "cell_type": "code",
   "execution_count": 6,
   "id": "f09ee14f",
   "metadata": {},
   "outputs": [
    {
     "name": "stdout",
     "output_type": "stream",
     "text": [
      "Enter the number: 78\n",
      "78 is Even number\n"
     ]
    }
   ],
   "source": [
    "#4. Scenario: A program evaluates a number to determine if it is even or odd.\n",
    "num = int(input(\"Enter the number: \"))\n",
    "if(num%2==0):\n",
    "    print(num,\"is Even number\")\n",
    "else:\n",
    "    print(num,\"is Odd number\") "
   ]
  },
  {
   "cell_type": "code",
   "execution_count": 9,
   "id": "64ca96e2",
   "metadata": {},
   "outputs": [
    {
     "name": "stdout",
     "output_type": "stream",
     "text": [
      "Type the word or sentence: Hello World\n",
      "Reversed Text:  d l r o W   o l l e H\n"
     ]
    }
   ],
   "source": [
    "#5. Scenario: A text-processing tool reverses a given word or sentence for formatting purposes.\n",
    "text = input(\"Type the word or sentence: \")\n",
    "char_list = list(text)\n",
    "char_list.reverse()\n",
    "reversed_text = \" \".join(char_list)\n",
    "print(\"Reversed Text: \",reversed_text)"
   ]
  },
  {
   "cell_type": "code",
   "execution_count": 3,
   "id": "fec3119e",
   "metadata": {},
   "outputs": [
    {
     "name": "stdout",
     "output_type": "stream",
     "text": [
      "Enter the marks: 80\n",
      "Pass\n"
     ]
    }
   ],
   "source": [
    "#6. Scenario: A grading system determines whether a student has passed or failed based on their score.\n",
    "marks = int(input(\"Enter the marks: \"))\n",
    "if(marks>40):\n",
    "    print(\"Pass\")\n",
    "else:\n",
    "    print(\"Fail\")"
   ]
  },
  {
   "cell_type": "code",
   "execution_count": 11,
   "id": "e33736ea",
   "metadata": {},
   "outputs": [
    {
     "name": "stdout",
     "output_type": "stream",
     "text": [
      "Enter the amount: $150\n",
      "Total amount = $ 120.0\n"
     ]
    }
   ],
   "source": [
    "#7. Scenario: A retail store offers a 20% discount if a customer’s total order exceeds $100.\n",
    "order_amount = int(input(\"Enter the amount: $\"))\n",
    "discount = 0\n",
    "if(order_amount>100):\n",
    "    discount=order_amount*0.2\n",
    "\n",
    "total_amount = order_amount - discount\n",
    "print(\"Total amount = $\",total_amount)\n",
    "    "
   ]
  },
  {
   "cell_type": "code",
   "execution_count": 14,
   "id": "026ea92a",
   "metadata": {},
   "outputs": [
    {
     "name": "stdout",
     "output_type": "stream",
     "text": [
      "Enter the account balance: 40000\n",
      "Enter the amount to withdrawal: 60000\n",
      "Insufficient balance\n"
     ]
    }
   ],
   "source": [
    "#8. Scenario: A banking system processes withdrawal requests and ensures the user has enough balance.\n",
    "account_balance = int(input(\"Enter the account balance: \"))\n",
    "withdrawal_amount = int(input(\"Enter the amount to withdrawal: \"))\n",
    "if(withdrawal_amount<=account_balance):\n",
    "    print(\"Updated balance = \",account_balance-withdrawal_amount)\n",
    "else:\n",
    "    print(\"Insufficient balance\")"
   ]
  },
  {
   "cell_type": "code",
   "execution_count": 21,
   "id": "1ac087d5",
   "metadata": {},
   "outputs": [
    {
     "name": "stdout",
     "output_type": "stream",
     "text": [
      "Enter the year: 2024\n",
      "2024 is a leap year\n"
     ]
    }
   ],
   "source": [
    "#9. Scenario: A calendar system verifies whether a given year is a leap year based on standard leap year rules.\n",
    "year = int(input(\"Enter the year: \"))\n",
    "if(year%400==0) or (year%4==0 and year%100!=0):\n",
    "    print(year,\"is a leap year\")\n",
    "else:\n",
    "    print(year,\"is not a leap year\")"
   ]
  },
  {
   "cell_type": "code",
   "execution_count": 22,
   "id": "26356b2c",
   "metadata": {},
   "outputs": [
    {
     "name": "stdout",
     "output_type": "stream",
     "text": [
      "Enter the numbers: 3 54 67 89 98 72 31 20\n",
      "Even number list:  [54, 98, 72, 20]\n"
     ]
    }
   ],
   "source": [
    "#10. Scenario: A program filters out only even numbers from a given list.\n",
    "numbers = list(map(int,input(\"Enter the numbers: \").split()))\n",
    "even_numbers = []\n",
    "for num in numbers:\n",
    "    if(num%2==0):\n",
    "        even_numbers.append(num)\n",
    "\n",
    "print(\"Even number list: \",even_numbers)    "
   ]
  }
 ],
 "metadata": {
  "kernelspec": {
   "display_name": "Python 3 (ipykernel)",
   "language": "python",
   "name": "python3"
  },
  "language_info": {
   "codemirror_mode": {
    "name": "ipython",
    "version": 3
   },
   "file_extension": ".py",
   "mimetype": "text/x-python",
   "name": "python",
   "nbconvert_exporter": "python",
   "pygments_lexer": "ipython3",
   "version": "3.9.7"
  }
 },
 "nbformat": 4,
 "nbformat_minor": 5
}
