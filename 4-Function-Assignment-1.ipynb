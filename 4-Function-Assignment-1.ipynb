{
 "cells": [
  {
   "cell_type": "code",
   "execution_count": 1,
   "id": "709998f7",
   "metadata": {},
   "outputs": [],
   "source": [
    "# Create a class and function, and list out the items in the list\n",
    "def SubfieldsInAI():\n",
    "    subfields=['Machine Learning','Neural Networks','Vision','Robotics','Speech Processing','Natural Language Processing']\n",
    "    print(\"Sub-fields in AI are:\")\n",
    "    for subfield in subfields:\n",
    "        print(subfield)"
   ]
  },
  {
   "cell_type": "code",
   "execution_count": 2,
   "id": "6c39355c",
   "metadata": {},
   "outputs": [
    {
     "name": "stdout",
     "output_type": "stream",
     "text": [
      "Sub-fields in AI are:\n",
      "Machine Learning\n",
      "Neural Networks\n",
      "Vision\n",
      "Robotics\n",
      "Speech Processing\n",
      "Natural Language Processing\n"
     ]
    }
   ],
   "source": [
    "SubfieldsInAI()"
   ]
  },
  {
   "cell_type": "code",
   "execution_count": 3,
   "id": "fa04e2b3",
   "metadata": {},
   "outputs": [],
   "source": [
    "# Create a function that checks whether the given number is Odd or Even\n",
    "def oddEven():\n",
    "    num=int(input(\"Enter a number: \"))\n",
    "    if((num%2)==1):\n",
    "        print(num,\"is Odd Number\")     \n",
    "    else:\n",
    "        print(num,\"is Even Number\")\n",
    "        \n",
    "    "
   ]
  },
  {
   "cell_type": "code",
   "execution_count": 4,
   "id": "59360328",
   "metadata": {},
   "outputs": [
    {
     "name": "stdout",
     "output_type": "stream",
     "text": [
      "Enter a number: 52452\n",
      "52452 is Even Number\n"
     ]
    }
   ],
   "source": [
    "oddEven()"
   ]
  },
  {
   "cell_type": "code",
   "execution_count": 3,
   "id": "47cf78e6",
   "metadata": {},
   "outputs": [],
   "source": [
    "# Create a function that tells elegibility of marriage for male and female according to their age limit like 21 for male and 18 for female\n",
    "def EligibilityForMarriage():\n",
    "    gender=input(\"Your Gender(Male/Female): \").strip().lower()\n",
    "    age=int(input(\"Your Age: \"))\n",
    "    if((gender==\"male\" and age>=21) or (gender==\"female\" and age>=18)):\n",
    "        print(\"ELIGIBLE\")\n",
    "    else:\n",
    "        print(\"NOT ELIGIBLE\")"
   ]
  },
  {
   "cell_type": "code",
   "execution_count": 5,
   "id": "6c05bc6a",
   "metadata": {},
   "outputs": [
    {
     "name": "stdout",
     "output_type": "stream",
     "text": [
      "Your Gender(Male/Female): Male\n",
      "Your Age: 20\n",
      "NOT ELIGIBLE\n"
     ]
    }
   ],
   "source": [
    "EligibilityForMarriage()"
   ]
  },
  {
   "cell_type": "code",
   "execution_count": 11,
   "id": "76eb0714",
   "metadata": {},
   "outputs": [],
   "source": [
    "# calculate the percentage of your 10th mark\n",
    "def FindPercent():\n",
    "    subject1=int(input(\"Subject1= \"))\n",
    "    subject2=int(input(\"Subject2= \"))\n",
    "    subject3=int(input(\"Subject3= \"))\n",
    "    subject4=int(input(\"Subject4= \"))\n",
    "    subject5=int(input(\"Subject5= \"))\n",
    "    total=subject1+subject2+subject3+subject4+subject5\n",
    "    percentage=total/5.0\n",
    "    print(\"Total: \",total)\n",
    "    print(\"Percentage : \",percentage)\n",
    "    "
   ]
  },
  {
   "cell_type": "code",
   "execution_count": 12,
   "id": "d4c167c2",
   "metadata": {},
   "outputs": [
    {
     "name": "stdout",
     "output_type": "stream",
     "text": [
      "Subject1= 98\n",
      "Subject2= 87\n",
      "Subject3= 95\n",
      "Subject4= 95\n",
      "Subject5= 93\n",
      "Total:  468\n",
      "Percentage :  93.6\n"
     ]
    }
   ],
   "source": [
    "FindPercent()"
   ]
  },
  {
   "cell_type": "code",
   "execution_count": 13,
   "id": "950e81ce",
   "metadata": {},
   "outputs": [],
   "source": [
    "#print area and perimeter of triangle using class and functions\n",
    "def AreaPerimeter():\n",
    "    height=int(input(\"Height: \"))\n",
    "    breadth=int(input(\"Breadth: \"))\n",
    "    print(\"Area formula: (Height*Breadth)/2\")\n",
    "    area=(height*breadth)/2.0\n",
    "    print(\"Area of Triangle: \",area)\n",
    "    height1=int(input(\"Height1: \"))\n",
    "    height2=int(input(\"Height2: \"))\n",
    "    Breadth=int(input(\"Breadth: \"))\n",
    "    print(\"Perimeter formula: Height1+Height2+Breadth\")\n",
    "    perimeter=height1+height2+Breadth\n",
    "    print(\"Perimeter of Triangle: \",perimeter)"
   ]
  },
  {
   "cell_type": "code",
   "execution_count": 14,
   "id": "3b234844",
   "metadata": {},
   "outputs": [
    {
     "name": "stdout",
     "output_type": "stream",
     "text": [
      "Height: 32\n",
      "Breadth: 34\n",
      "Area formula: (Height*Breadth)/2\n",
      "Area of Triangle:  544.0\n",
      "Height1: 2\n",
      "Height2: 4\n",
      "Breadth: 4\n",
      "Perimeter formula: Height1+Height2+Breadth\n",
      "Perimeter of Triangle:  10\n"
     ]
    }
   ],
   "source": [
    "AreaPerimeter()"
   ]
  },
  {
   "cell_type": "code",
   "execution_count": null,
   "id": "2382bc60",
   "metadata": {},
   "outputs": [],
   "source": []
  }
 ],
 "metadata": {
  "kernelspec": {
   "display_name": "Python 3 (ipykernel)",
   "language": "python",
   "name": "python3"
  },
  "language_info": {
   "codemirror_mode": {
    "name": "ipython",
    "version": 3
   },
   "file_extension": ".py",
   "mimetype": "text/x-python",
   "name": "python",
   "nbconvert_exporter": "python",
   "pygments_lexer": "ipython3",
   "version": "3.9.7"
  }
 },
 "nbformat": 4,
 "nbformat_minor": 5
}
