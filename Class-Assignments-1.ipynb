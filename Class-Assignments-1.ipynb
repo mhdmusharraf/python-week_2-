{
 "cells": [
  {
   "cell_type": "code",
   "execution_count": 1,
   "id": "5d6f423b",
   "metadata": {},
   "outputs": [],
   "source": [
    "class multipleFunctions():\n",
    "    def SubfieldsInAI():\n",
    "        subfields=['Machine Learning','Neural Networks','Vision','Robotics','Speech Processing','Natural Language Processing']\n",
    "        print(\"Sub-fields in AI are:\")\n",
    "        for subfield in subfields:\n",
    "            print(subfield)\n",
    "            \n",
    "    def oddEven():\n",
    "        num=int(input(\"Enter a number: \"))\n",
    "        if((num%2)==1):\n",
    "            print(num,\"is Odd Number\")     \n",
    "        else:\n",
    "            print(num,\"is Even Number\")\n",
    "\n",
    "    def EligibilityForMarriage():\n",
    "        gender=input(\"Your Gender(Male/Female): \").strip().lower()\n",
    "        age=int(input(\"Your Age: \"))\n",
    "        if((gender==\"male\" and age>=21) or (gender==\"female\" and age>=18)):\n",
    "            print(\"ELIGIBLE\")\n",
    "        else:\n",
    "            print(\"NOT ELIGIBLE\")\n",
    "            \n",
    "    def FindPercent():\n",
    "        subject1=int(input(\"Subject1= \"))\n",
    "        subject2=int(input(\"Subject2= \"))\n",
    "        subject3=int(input(\"Subject3= \"))\n",
    "        subject4=int(input(\"Subject4= \"))\n",
    "        subject5=int(input(\"Subject5= \"))\n",
    "        total=subject1+subject2+subject3+subject4+subject5\n",
    "        percentage=total/5.0\n",
    "        print(\"Total: \",total)\n",
    "        print(\"Percentage : \",percentage)\n",
    "        \n",
    "    def AreaPerimeter():\n",
    "        height=int(input(\"Height: \"))\n",
    "        breadth=int(input(\"Breadth: \"))\n",
    "        print(\"Area formula: (Height*Breadth)/2\")\n",
    "        area=(height*breadth)/2.0\n",
    "        print(\"Area of Triangle: \",area)\n",
    "        height1=int(input(\"Height1: \"))\n",
    "        height2=int(input(\"Height2: \"))\n",
    "        Breadth=int(input(\"Breadth: \"))\n",
    "        print(\"Perimeter formula: Height1+Height2+Breadth\")\n",
    "        perimeter=height1+height2+Breadth\n",
    "        print(\"Perimeter of Triangle: \",perimeter)"
   ]
  },
  {
   "cell_type": "code",
   "execution_count": 3,
   "id": "ea0112b3",
   "metadata": {},
   "outputs": [
    {
     "name": "stdout",
     "output_type": "stream",
     "text": [
      "Sub-fields in AI are:\n",
      "Machine Learning\n",
      "Neural Networks\n",
      "Vision\n",
      "Robotics\n",
      "Speech Processing\n",
      "Natural Language Processing\n"
     ]
    }
   ],
   "source": [
    "multipleFunctions.SubfieldsInAI()"
   ]
  },
  {
   "cell_type": "code",
   "execution_count": 4,
   "id": "34ddf078",
   "metadata": {},
   "outputs": [
    {
     "name": "stdout",
     "output_type": "stream",
     "text": [
      "Enter a number: 52452\n",
      "52452 is Even Number\n"
     ]
    }
   ],
   "source": [
    "multipleFunctions.oddEven()"
   ]
  },
  {
   "cell_type": "code",
   "execution_count": 5,
   "id": "c77c7406",
   "metadata": {},
   "outputs": [
    {
     "name": "stdout",
     "output_type": "stream",
     "text": [
      "Your Gender(Male/Female): Male\n",
      "Your Age: 20\n",
      "NOT ELIGIBLE\n"
     ]
    }
   ],
   "source": [
    "multipleFunctions.EligibilityForMarriage()"
   ]
  },
  {
   "cell_type": "code",
   "execution_count": 6,
   "id": "ba3c8d61",
   "metadata": {},
   "outputs": [
    {
     "name": "stdout",
     "output_type": "stream",
     "text": [
      "Subject1= 98\n",
      "Subject2= 87\n",
      "Subject3= 95\n",
      "Subject4= 95\n",
      "Subject5= 93\n",
      "Total:  468\n",
      "Percentage :  93.6\n"
     ]
    }
   ],
   "source": [
    "multipleFunctions.FindPercent()"
   ]
  },
  {
   "cell_type": "code",
   "execution_count": 7,
   "id": "6ece02c9",
   "metadata": {},
   "outputs": [
    {
     "name": "stdout",
     "output_type": "stream",
     "text": [
      "Height: 32\n",
      "Breadth: 34\n",
      "Area formula: (Height*Breadth)/2\n",
      "Area of Triangle:  544.0\n",
      "Height1: 2\n",
      "Height2: 4\n",
      "Breadth: 4\n",
      "Perimeter formula: Height1+Height2+Breadth\n",
      "Perimeter of Triangle:  10\n"
     ]
    }
   ],
   "source": [
    "multipleFunctions.AreaPerimeter()"
   ]
  },
  {
   "cell_type": "code",
   "execution_count": null,
   "id": "1f11e01f",
   "metadata": {},
   "outputs": [],
   "source": []
  }
 ],
 "metadata": {
  "kernelspec": {
   "display_name": "Python 3 (ipykernel)",
   "language": "python",
   "name": "python3"
  },
  "language_info": {
   "codemirror_mode": {
    "name": "ipython",
    "version": 3
   },
   "file_extension": ".py",
   "mimetype": "text/x-python",
   "name": "python",
   "nbconvert_exporter": "python",
   "pygments_lexer": "ipython3",
   "version": "3.9.7"
  }
 },
 "nbformat": 4,
 "nbformat_minor": 5
}
