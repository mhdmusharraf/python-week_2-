{
 "cells": [
  {
   "cell_type": "code",
   "execution_count": 1,
   "id": "18ea41e8",
   "metadata": {},
   "outputs": [
    {
     "name": "stdout",
     "output_type": "stream",
     "text": [
      "HOPE AI\n"
     ]
    }
   ],
   "source": [
    "print(\"HOPE AI\")"
   ]
  },
  {
   "cell_type": "code",
   "execution_count": 3,
   "id": "64787ebd",
   "metadata": {},
   "outputs": [
    {
     "name": "stdout",
     "output_type": "stream",
     "text": [
      "Enter your institute name? : HOPE AI\n"
     ]
    }
   ],
   "source": [
    "instituteName=input(\"Enter your institute name? : \")"
   ]
  },
  {
   "cell_type": "code",
   "execution_count": 5,
   "id": "c6a656ff",
   "metadata": {},
   "outputs": [
    {
     "name": "stdout",
     "output_type": "stream",
     "text": [
      "Enter your name: Raj\n",
      "Enter your age: 15\n",
      "Enter your school name: Guru School\n",
      "Enter your drgree: B.E CSE\n"
     ]
    }
   ],
   "source": [
    "name=input(\"Enter your name: \")\n",
    "age=int(input(\"Enter your age: \"))\n",
    "schoolName=input(\"Enter your school name: \")\n",
    "degree=input(\"Enter your drgree: \")"
   ]
  },
  {
   "cell_type": "code",
   "execution_count": 6,
   "id": "dccd8669",
   "metadata": {},
   "outputs": [
    {
     "name": "stdout",
     "output_type": "stream",
     "text": [
      "a= 43\n",
      "b= 34\n",
      "Add=  77\n"
     ]
    }
   ],
   "source": [
    "#Addition\n",
    "num1=int(input(\"a= \"))\n",
    "num2=int(input(\"b= \"))\n",
    "print(\"Add= \",num1+num2)"
   ]
  },
  {
   "cell_type": "code",
   "execution_count": 7,
   "id": "ac7fb575",
   "metadata": {},
   "outputs": [
    {
     "name": "stdout",
     "output_type": "stream",
     "text": [
      "a= 43\n",
      "b= 34\n",
      "Sub=  9\n"
     ]
    }
   ],
   "source": [
    "#Subtraction\n",
    "num1=int(input(\"a= \"))\n",
    "num2=int(input(\"b= \"))\n",
    "print(\"Sub= \",num1-num2)"
   ]
  },
  {
   "cell_type": "code",
   "execution_count": 8,
   "id": "844cfc39",
   "metadata": {},
   "outputs": [
    {
     "name": "stdout",
     "output_type": "stream",
     "text": [
      "a= 63\n",
      "b= 97\n",
      "Mul=  6111\n"
     ]
    }
   ],
   "source": [
    "#Multiplication\n",
    "num1=int(input(\"a= \"))\n",
    "num2=int(input(\"b= \"))\n",
    "print(\"Mul= \",num1*num2)"
   ]
  },
  {
   "cell_type": "code",
   "execution_count": 10,
   "id": "913ad8f0",
   "metadata": {},
   "outputs": [
    {
     "name": "stdout",
     "output_type": "stream",
     "text": [
      "a= 76\n",
      "b= 31\n",
      "Float Div=  2.4516129032258065\n"
     ]
    }
   ],
   "source": [
    "#Division\n",
    "num1=int(input(\"a= \"))\n",
    "num2=int(input(\"b= \"))\n",
    "print(\"Float Div= \",num1/num2)"
   ]
  },
  {
   "cell_type": "code",
   "execution_count": 12,
   "id": "37733046",
   "metadata": {},
   "outputs": [
    {
     "name": "stdout",
     "output_type": "stream",
     "text": [
      "a= 76\n",
      "b= 31\n",
      "Floor Div=  2\n"
     ]
    }
   ],
   "source": [
    "#Floor division\n",
    "num1=int(input(\"a= \"))\n",
    "num2=int(input(\"b= \"))\n",
    "print(\"Floor Div= \",num1//num2)"
   ]
  },
  {
   "cell_type": "code",
   "execution_count": 14,
   "id": "8ff7656c",
   "metadata": {},
   "outputs": [
    {
     "name": "stdout",
     "output_type": "stream",
     "text": [
      "a= 76\n",
      "b= 31\n",
      "Modulo=  14\n"
     ]
    }
   ],
   "source": [
    "#Modulo\n",
    "num1=int(input(\"a= \"))\n",
    "num2=int(input(\"b= \"))\n",
    "print(\"Modulo= \",num1%num2)"
   ]
  },
  {
   "cell_type": "code",
   "execution_count": 15,
   "id": "c39ee5ca",
   "metadata": {},
   "outputs": [
    {
     "name": "stdout",
     "output_type": "stream",
     "text": [
      "a= 4\n",
      "b= 4\n",
      "Power=  256\n"
     ]
    }
   ],
   "source": [
    "#Power\n",
    "num1=int(input(\"a= \"))\n",
    "num2=int(input(\"b= \"))\n",
    "print(\"Power= \",num1**num2)"
   ]
  },
  {
   "cell_type": "code",
   "execution_count": null,
   "id": "cee5725a",
   "metadata": {},
   "outputs": [],
   "source": []
  }
 ],
 "metadata": {
  "kernelspec": {
   "display_name": "Python 3 (ipykernel)",
   "language": "python",
   "name": "python3"
  },
  "language_info": {
   "codemirror_mode": {
    "name": "ipython",
    "version": 3
   },
   "file_extension": ".py",
   "mimetype": "text/x-python",
   "name": "python",
   "nbconvert_exporter": "python",
   "pygments_lexer": "ipython3",
   "version": "3.9.7"
  }
 },
 "nbformat": 4,
 "nbformat_minor": 5
}
