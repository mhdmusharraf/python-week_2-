{
 "cells": [
  {
   "cell_type": "markdown",
   "id": "ae82757e",
   "metadata": {},
   "source": [
    "# 1. Scenario: You are developing a banking application that categorizes transactions based on the amount entered.Write logic to determine whether the amount is positive, negative, or zero.\n",
    "\n",
    "Logic:\n",
    "1. Get the number.\n",
    "2. If the number is greater than 0, print positive.\n",
    "3. Else if the number is less than 0, print negative.\n",
    "4. Else print zero.\n",
    "\n"
   ]
  },
  {
   "cell_type": "code",
   "execution_count": 4,
   "id": "ba1fe2de",
   "metadata": {},
   "outputs": [
    {
     "name": "stdout",
     "output_type": "stream",
     "text": [
      "Enter the number: -4\n",
      "negative\n"
     ]
    }
   ],
   "source": [
    "num = int(input(\"Enter the number: \"))\n",
    "if(num>0):\n",
    "    print(\"positive\")\n",
    "elif(num<0):\n",
    "    print(\"negative\")\n",
    "else:\n",
    "    print(\"zero\")"
   ]
  },
  {
   "cell_type": "markdown",
   "id": "080b77b6",
   "metadata": {},
   "source": [
    "# 2.\tScenario: A digital locker requires users to enter a numerical passcode. As part of a security feature, the system checks the sum of the digits of the passcode.Write logic to compute the sum of the digits of a given number.\n",
    "\n",
    "Logic:\n",
    "1. Get the number.\n",
    "2. Convert the number into individual digits.\n",
    "3. Initialize the sum = 0\n",
    "4. Add all individual digits to the sum.\n",
    "5. Print the sum value.\n"
   ]
  },
  {
   "cell_type": "code",
   "execution_count": 8,
   "id": "dfa305e6",
   "metadata": {},
   "outputs": [
    {
     "name": "stdout",
     "output_type": "stream",
     "text": [
      "Enter the number: 345\n",
      "Sum of digits:  12\n"
     ]
    }
   ],
   "source": [
    "num = int(input(\"Enter the number: \"))\n",
    "digits = [int(d) for d in str(num)]\n",
    "sum = 0\n",
    "for i in digits:\n",
    "    sum += i\n",
    "\n",
    "print(\"Sum of digits: \",sum)"
   ]
  },
  {
   "cell_type": "markdown",
   "id": "934486c7",
   "metadata": {},
   "source": [
    "# 3. Scenario: A mobile payment app uses a simple checksum validation where reversing a transaction ID helps detect fraud.Write logic to take a number and return its reverse.\n",
    "\n",
    "Logic:\n",
    "1. Get the number.\n",
    "2. Initialize reverse_number as zero and assign the number in temp variable. \n",
    "3. In while loop:  get the last number , added with 10 times reverse number and mdivide the temperory number using floor division.  \n",
    "4. Print the reversed number.\n"
   ]
  },
  {
   "cell_type": "code",
   "execution_count": 12,
   "id": "5478ca07",
   "metadata": {},
   "outputs": [
    {
     "name": "stdout",
     "output_type": "stream",
     "text": [
      "Print the number: 12345\n",
      "Reversed Number:  54321\n"
     ]
    }
   ],
   "source": [
    "num = int(input(\"Print the number: \"))\n",
    "reverse_number =0\n",
    "temp = num\n",
    "\n",
    "while temp>0:\n",
    "    digit= temp % 10\n",
    "    reverse_number = reverse_number*10 + digit\n",
    "    temp //=10\n",
    "\n",
    "print(\"Reversed Number: \",reverse_number)"
   ]
  },
  {
   "cell_type": "markdown",
   "id": "4d088d4c",
   "metadata": {},
   "source": [
    "# 5.Scenario: A scientist is working on permutations and needs to calculate the factorial of numbers frequently.Write logic to find the factorial of a given number using recursion.\n",
    "\n",
    "Logic:\n",
    "1. Get the number.\n",
    "2. If the number is 0 or 1 then return 1.\n",
    "3. Else return the number multiplied by factorial(number-1)\n",
    "4. Print the result\n"
   ]
  },
  {
   "cell_type": "code",
   "execution_count": 13,
   "id": "330ea91d",
   "metadata": {},
   "outputs": [
    {
     "name": "stdout",
     "output_type": "stream",
     "text": [
      "Enter the number: 5\n",
      "Factorial of  5 is 120\n"
     ]
    }
   ],
   "source": [
    "def factorial(num):\n",
    "    if num==0 or num==1:\n",
    "        return 1\n",
    "    else:\n",
    "        return num*factorial(num-1)\n",
    "number = int(input(\"Enter the number: \"))\n",
    "print(\"Factorial of \",number,\"is\",factorial(number))"
   ]
  },
  {
   "cell_type": "markdown",
   "id": "86c9a1c1",
   "metadata": {},
   "source": [
    "# 6.Scenario: A unique lottery system assigns ticket numbers where only Armstrong numbers win the jackpot.Write logic to check whether a given number is an Armstrong number.\n",
    "\n",
    "Logic:\n",
    "1. Get the number.\n",
    "2. Count the number of digits.\n",
    "3. Initialize the sum = 0\n",
    "4. For each digit of the number raise the digit to the power of the total number of digits and add the result to the sum.\n",
    "5. If the sum equal to original number print Armstrong number.\n",
    "6. Else print not an Armstrong number.\n"
   ]
  },
  {
   "cell_type": "code",
   "execution_count": 19,
   "id": "b5e95c1c",
   "metadata": {},
   "outputs": [
    {
     "name": "stdout",
     "output_type": "stream",
     "text": [
      "Enter the number: 153\n",
      "153 is an Armstrong Number\n"
     ]
    }
   ],
   "source": [
    "num= int(input(\"Enter the number: \"))\n",
    "count = len(str(num))\n",
    "sum = 0\n",
    "temp = num\n",
    "while temp>0:\n",
    "    digit = temp % 10\n",
    "    sum += digit ** count\n",
    "    temp //= 10\n",
    "if(sum==num):\n",
    "    print(num,\"is an Armstrong Number\")\n",
    "else:\n",
    "    print(num,\"is not an Armstrong Number\")"
   ]
  },
  {
   "cell_type": "markdown",
   "id": "8fe448f9",
   "metadata": {},
   "source": [
    "# 7.Scenario: A password manager needs to strengthen weak passwords by swapping the first and last characters of user-generated passwords. Write logic to perform this operation on a given string.\n",
    "\n",
    "Logic:\n",
    "1. Get the password.\n",
    "2. If the password length is less than 2 then return the password again.\n",
    "3. Else swap the first and last character and middle part should be unchanged.\n",
    "4. Print the modified password.\n"
   ]
  },
  {
   "cell_type": "code",
   "execution_count": 21,
   "id": "b9a9904e",
   "metadata": {},
   "outputs": [
    {
     "name": "stdout",
     "output_type": "stream",
     "text": [
      "Enter the password: Hello\n",
      "Modified password:  oellH\n"
     ]
    }
   ],
   "source": [
    "password = input(\"Enter the password: \")\n",
    "if len(password)>1:\n",
    "    swapped = password[-1]+password[1:-1]+password[0]\n",
    "else:\n",
    "    swapped = password\n",
    "print(\"Modified password: \",swapped)"
   ]
  },
  {
   "cell_type": "markdown",
   "id": "894e477e",
   "metadata": {},
   "source": [
    "# 8.Scenario: A low-level networking application requires decimal numbers to be converted into binary format before transmission.Write logic to convert a given decimal number into its binary equivalent.\n",
    "\n",
    "Logic:\n",
    "1. Get the decimal number.\n",
    "2. Initialize an empty string.\n",
    "3. While the number is greater than 0: divide the number by 2 and store the reminder and added to the binary string and update the number by dividing by 2.\n",
    "4. Reverse the string.\n",
    "5. Print the binary representation.\n"
   ]
  },
  {
   "cell_type": "code",
   "execution_count": 8,
   "id": "a3c086af",
   "metadata": {},
   "outputs": [
    {
     "name": "stdout",
     "output_type": "stream",
     "text": [
      "Enter the number: 26\n",
      "Binray representation of  26 is 11010\n"
     ]
    }
   ],
   "source": [
    "num=int(input(\"Enter the number: \"))\n",
    "original_num=num\n",
    "binary_string = \"\"\n",
    "while num>0:\n",
    "    reminder = num%2\n",
    "    binary_string = str(reminder)+binary_string\n",
    "    num //= 2\n",
    "\n",
    "print(\"Binray representation of \",original_num,\"is\",binary_string)"
   ]
  },
  {
   "cell_type": "markdown",
   "id": "f1cea3af",
   "metadata": {},
   "source": [
    "# 9.Scenario: A text-processing tool helps summarize articles by identifying the most significant words. Write logic to find the longest word in a sentence.\n",
    "\n",
    "Logic:\n",
    "1. Get the sentence.\n",
    "2. Split into individual words.\n",
    "3. Initialize a variable to store the longest word.\n",
    "4. In the loop, if the current word is longer than the stored longest word then update longest word variable.\n",
    "5. Print the final longest word."
   ]
  },
  {
   "cell_type": "code",
   "execution_count": 9,
   "id": "7d38c056",
   "metadata": {},
   "outputs": [
    {
     "name": "stdout",
     "output_type": "stream",
     "text": [
      "Enter the sentence: I am Musharraf\n",
      "Longest word:  Musharraf\n"
     ]
    }
   ],
   "source": [
    "sentence = input(\"Enter the sentence: \")\n",
    "words=sentence.split()\n",
    "longest_word=words[0]\n",
    "for word in words[1:]:\n",
    "    if(len(word) > len(longest_word)):\n",
    "        longest_word=word\n",
    "print(\"Longest word: \",longest_word)"
   ]
  },
  {
   "cell_type": "markdown",
   "id": "b392a285",
   "metadata": {},
   "source": [
    "# 10.Scenario: A plagiarism detection tool compares words from different documents and checks if they are anagrams (same characters but different order). Write logic to check whether two given strings are anagrams.\n",
    "\n",
    "Logic:\n",
    "1. Get two strings.\n",
    "2. Remove spaces and convert both strings to lowercase.\n",
    "3. Sort the character of the strings.\n",
    "4. If the sorted strings are same print anagrams.\n",
    "5. Else print not anagrams."
   ]
  },
  {
   "cell_type": "code",
   "execution_count": 12,
   "id": "c9bffcdf",
   "metadata": {},
   "outputs": [
    {
     "name": "stdout",
     "output_type": "stream",
     "text": [
      "Enter the first string: Listen\n",
      "Enter the second string: Silent\n",
      "Both strings are Anagrams\n"
     ]
    }
   ],
   "source": [
    "str1 = input(\"Enter the first string: \").replace(\" \",\"\").lower()\n",
    "str2 = input(\"Enter the second string: \").replace(\" \",\"\").lower()\n",
    "\n",
    "if(sorted(str1)==sorted(str2)):\n",
    "    print(\"Both strings are Anagrams\")\n",
    "else:\n",
    "    print(\"Both strings are not Anagrams\")"
   ]
  },
  {
   "cell_type": "code",
   "execution_count": null,
   "id": "e2b7f4b4",
   "metadata": {},
   "outputs": [],
   "source": []
  }
 ],
 "metadata": {
  "kernelspec": {
   "display_name": "Python 3 (ipykernel)",
   "language": "python",
   "name": "python3"
  },
  "language_info": {
   "codemirror_mode": {
    "name": "ipython",
    "version": 3
   },
   "file_extension": ".py",
   "mimetype": "text/x-python",
   "name": "python",
   "nbconvert_exporter": "python",
   "pygments_lexer": "ipython3",
   "version": "3.9.7"
  }
 },
 "nbformat": 4,
 "nbformat_minor": 5
}
