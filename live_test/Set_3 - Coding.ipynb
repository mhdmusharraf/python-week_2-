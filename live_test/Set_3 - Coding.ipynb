{
 "cells": [
  {
   "cell_type": "code",
   "execution_count": 11,
   "id": "c4734e2b",
   "metadata": {},
   "outputs": [
    {
     "name": "stdout",
     "output_type": "stream",
     "text": [
      "Square numbers:  [1, 4, 9, 16, 25]\n"
     ]
    }
   ],
   "source": [
    "#1. Square of Numbers from 1 to 5\n",
    "\n",
    "squares = []\n",
    "for i in range(1,6):    \n",
    "    num = i*i \n",
    "    squares.append(num)\n",
    "\n",
    "print(\"Square numbers: \",squares)\n",
    "    "
   ]
  },
  {
   "cell_type": "code",
   "execution_count": 4,
   "id": "d0b31882",
   "metadata": {},
   "outputs": [
    {
     "name": "stdout",
     "output_type": "stream",
     "text": [
      "Even Numbers:  [12, 24, 40, 56]\n",
      "Odd Numbers:  [17, 19, 35]\n"
     ]
    }
   ],
   "source": [
    " #3.Find Even and Odd Numbers in a List\n",
    "#Question: Write a Python program to separate even and odd numbers from the list [12, 17, 19, 24, 35, 40, 56].\n",
    "my_list = [12, 17, 19, 24, 35, 40, 56]\n",
    "even_number = []\n",
    "odd_number = []\n",
    "for num in my_list:\n",
    "    if num%2==0:\n",
    "        even_number.append(num)\n",
    "    else:\n",
    "        odd_number.append(num)\n",
    "print(\"Even Numbers: \",even_number)\n",
    "print(\"Odd Numbers: \",odd_number)"
   ]
  },
  {
   "cell_type": "code",
   "execution_count": 5,
   "id": "1d32f88a",
   "metadata": {},
   "outputs": [
    {
     "name": "stdout",
     "output_type": "stream",
     "text": [
      "Reversed Number:  5 4 3 2 1\n"
     ]
    }
   ],
   "source": [
    "#4. Reverse a Number\n",
    "#Question: Write a Python program to reverse the number 12345.\n",
    "num = '12345'\n",
    "char_list=list(num)\n",
    "char_list.reverse()\n",
    "reversed_number = \" \".join(char_list)\n",
    "print(\"Reversed Number: \",reversed_number)\n"
   ]
  },
  {
   "cell_type": "code",
   "execution_count": 8,
   "id": "c8e31e27",
   "metadata": {},
   "outputs": [
    {
     "name": "stdout",
     "output_type": "stream",
     "text": [
      "Second Largest number is:  34\n"
     ]
    }
   ],
   "source": [
    "#5. Find the Second Largest Number in a List\n",
    "#Question: Write a Python program to find the second largest number in the list [12, 45, 98, 34, 23].\n",
    "my_list = [12, 45, 98, 34, 23]\n",
    "\n",
    "largest = my_list[0]\n",
    "for num in my_list[2:]:\n",
    "    if(num>largest):\n",
    "        largest = num\n",
    "my_list.remove(largest)\n",
    "second_largest=my_list[0]\n",
    "for num in my_list[2:]:\n",
    "    if(num>second_largest):\n",
    "        second_largest = num\n",
    "print(\"Second Largest number is: \",second_largest)"
   ]
  },
  {
   "cell_type": "code",
   "execution_count": 9,
   "id": "fe945f97",
   "metadata": {},
   "outputs": [
    {
     "name": "stdout",
     "output_type": "stream",
     "text": [
      "10 5\n"
     ]
    }
   ],
   "source": [
    "#2.Swap Two Variables Without Using a Temporary Variable\n",
    "# Question: Write a Python program to swap two variables a = 5 and b = 10 without using a temporary variable.\n",
    "a=5\n",
    "b=10\n",
    "'''\n",
    "with using temporary variable\n",
    "c= a\n",
    "a=b\n",
    "b=c\n",
    "print(a,b)\n",
    "'''"
   ]
  },
  {
   "cell_type": "code",
   "execution_count": null,
   "id": "46e8e83a",
   "metadata": {},
   "outputs": [],
   "source": []
  }
 ],
 "metadata": {
  "kernelspec": {
   "display_name": "Python 3 (ipykernel)",
   "language": "python",
   "name": "python3"
  },
  "language_info": {
   "codemirror_mode": {
    "name": "ipython",
    "version": 3
   },
   "file_extension": ".py",
   "mimetype": "text/x-python",
   "name": "python",
   "nbconvert_exporter": "python",
   "pygments_lexer": "ipython3",
   "version": "3.9.7"
  }
 },
 "nbformat": 4,
 "nbformat_minor": 5
}
