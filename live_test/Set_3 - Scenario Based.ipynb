{
 "cells": [
  {
   "cell_type": "markdown",
   "id": "d328a82d",
   "metadata": {},
   "source": [
    "# 1.Scenario: A user is required to enter a valid number in a form, but users sometimes input invalid data.\n",
    "#  Write logic to repeatedly prompt the user until they enter a valid integer.\n",
    "\n",
    "Logic:\n",
    "1. Get the number\n",
    "2. Inside the Try block : until user giving valid input integer it will run and break \n",
    "3. Except print the Value error."
   ]
  },
  {
   "cell_type": "code",
   "execution_count": 6,
   "id": "361c117d",
   "metadata": {},
   "outputs": [
    {
     "name": "stdout",
     "output_type": "stream",
     "text": [
      "Enter the number: 90\n",
      "Entered correct value 90\n"
     ]
    }
   ],
   "source": [
    "while True:\n",
    "    num = int(input(\"Enter the number: \"))\n",
    "    try:\n",
    "        value = int(num)\n",
    "        print(\"Entered correct value\",value)\n",
    "        break\n",
    "    except ValueError:\n",
    "        print(\"Invalid input. Please enter the valid integer\")\n"
   ]
  },
  {
   "cell_type": "markdown",
   "id": "72ed0cfd",
   "metadata": {},
   "source": [
    "# 2.Scenario: A data analysis tool processes a list of numbers and needs to identify the most frequently occurring value.\n",
    "#  Write logic to find the most frequently occurring number in a given list.\n",
    "\n",
    "Logic:\n",
    "1. Read the list of numbers.\n",
    "2. Create a dictionary or map to store the frequency of each number.\n",
    "3. Traverse the list and update the frequency count for each number.\n",
    "4. Identify the number with the highest frequency.\n",
    "5. Return or display the most frequently occurring number."
   ]
  },
  {
   "cell_type": "code",
   "execution_count": 14,
   "id": "441b65b2",
   "metadata": {},
   "outputs": [
    {
     "name": "stdout",
     "output_type": "stream",
     "text": [
      "Most frquent number:  4\n"
     ]
    }
   ],
   "source": [
    "numbers = [4, 1, 2, 2, 3, 4, 4, 5, 2]\n",
    "freq = {}\n",
    "\n",
    "for num in numbers:\n",
    "    freq[num] = freq.get(num,0)+1\n",
    "most_frequent = max(freq, key=freq.get)\n",
    "print(\"Most frquent number: \",most_frequent)"
   ]
  },
  {
   "cell_type": "markdown",
   "id": "41835a3f",
   "metadata": {},
   "source": [
    "# 3.\tScenario: A text-processing application needs to compare words and check if they are anagrams (contain the same letters in a different order).\n",
    "#  Write logic to determine whether two given strings are anagrams.\n",
    "\n",
    "Logic:\n",
    "1. Get two strings.\n",
    "2. Remove spaces and convert to the lowercase.\n",
    "3. If Sorted strings equal then print two strings are anagrams.\n",
    "4. Else print two strings are not anagrams."
   ]
  },
  {
   "cell_type": "code",
   "execution_count": 2,
   "id": "13fc1313",
   "metadata": {},
   "outputs": [
    {
     "name": "stdout",
     "output_type": "stream",
     "text": [
      "Enter the word: silent\n",
      "Enter the word: listen\n",
      "Two strings are Anagrams\n"
     ]
    }
   ],
   "source": [
    "str1 = input(\"Enter the word: \").replace(\" \",\"\").lower()\n",
    "str2 = input(\"Enter the word: \").replace(\" \",\"\").lower()\n",
    "\n",
    "if(sorted(str1)==sorted(str2)):\n",
    "    print(\"Two strings are Anagrams\")\n",
    "else:\n",
    "    print(\"Strings are not Anagrams\")"
   ]
  },
  {
   "cell_type": "markdown",
   "id": "8e50bb93",
   "metadata": {},
   "source": [
    "# 4.\tScenario: A speech analysis program needs to count the number of vowel sounds in a given input.\n",
    "#  Write logic to count the number of vowels in a given string.\n",
    "\n",
    "Logic:\n",
    "1. Get the text.\n",
    "2. Convert into the list.\n",
    "3. Initialize the count variable as 0\n",
    "4. In for loop, if each character is equal to the vowel letters which are [a,e,i,o,u] then increase the count by 1\n",
    "5. Print the value of count."
   ]
  },
  {
   "cell_type": "code",
   "execution_count": 3,
   "id": "18e5f4c1",
   "metadata": {},
   "outputs": [
    {
     "name": "stdout",
     "output_type": "stream",
     "text": [
      "Enter the word: apple\n",
      "Number of vowels are :  2\n"
     ]
    }
   ],
   "source": [
    "text = input(\"Enter the word: \").lower()\n",
    "char_list = list(text)\n",
    "count = 0\n",
    "for ch in char_list:\n",
    "    if(ch=='a' or ch=='e' or ch=='i' or ch=='o' or ch=='u' ):\n",
    "        count = count + 1\n",
    "print(\"Number of vowels are : \",count)"
   ]
  },
  {
   "cell_type": "markdown",
   "id": "54181cf9",
   "metadata": {},
   "source": [
    "# 5.\tScenario: A text-editing software includes a feature to reverse the order of words in a sentence for stylistic effects.\n",
    "#  Write logic to reverse the order of words in a sentence while keeping the words themselves intact.\n",
    "\n",
    "Logic:\n",
    "1. Get the sentence.\n",
    "2. Split into words and store in the list.\n",
    "3. Reverse the list.\n",
    "4. And join to the reversed_words list.\n",
    "5. print the reversed_words list."
   ]
  },
  {
   "cell_type": "code",
   "execution_count": 1,
   "id": "66251b00",
   "metadata": {},
   "outputs": [
    {
     "name": "stdout",
     "output_type": "stream",
     "text": [
      "Enter the sentence: Hello I am Musharraf\n",
      "Reversed sentence:  Musharraf am I Hello\n"
     ]
    }
   ],
   "source": [
    "sentence = input(\"Enter the sentence: \")\n",
    "words = sentence.split()\n",
    "reversed_words = words[::-1]\n",
    "reversed_sentence = \" \".join(reversed_words)\n",
    "print(\"Reversed sentence: \",reversed_sentence)"
   ]
  },
  {
   "cell_type": "markdown",
   "id": "50538041",
   "metadata": {},
   "source": [
    "# 6.\tScenario: A missing number is detected in a sequence of values stored in a database.\n",
    "#  Write logic to find the missing number in a list containing n-1 numbers from 1 to n.\n",
    "\n",
    "Logic:\n",
    "1. List = [1,2,4,5]\n",
    "2. Get the sum of the List and store sum_of_given_list\n",
    "2. Get the length of the List which is n-1\n",
    "3. Get the sum of n using triangular equation = n(n+1)//2 and store in the sum_of_original_list\n",
    "4. Get the missing number by sum_of_original_list - sum_of_given_list\n",
    "5. print the missing number."
   ]
  },
  {
   "cell_type": "code",
   "execution_count": 3,
   "id": "7bd86c4b",
   "metadata": {},
   "outputs": [
    {
     "name": "stdout",
     "output_type": "stream",
     "text": [
      "Missing Number is:  3\n"
     ]
    }
   ],
   "source": [
    "numbers = [1,2,4,5,6]\n",
    "sum_of_given_list = 0\n",
    "for num in numbers:\n",
    "    sum_of_given_list = sum_of_given_list + num\n",
    "size_of_list = len(numbers)\n",
    "sum_of_original_list = (size_of_list+1)*(size_of_list+2)//2\n",
    "missing_number = sum_of_original_list - sum_of_given_list\n",
    "print(\"Missing Number is: \",missing_number)"
   ]
  },
  {
   "cell_type": "markdown",
   "id": "9fbe851e",
   "metadata": {},
   "source": [
    "# 7.\tScenario: An ATM machine processes withdrawal requests and needs to ensure that users cannot withdraw more than their account balance.\n",
    "#  Write logic to allow a withdrawal only if the balance is sufficient.\n",
    "\n",
    "Logic:\n",
    "1. Get the Bank_balance.\n",
    "2. If withdraw_amount less than or equal to Bank_balance print blance is sufficient.\n",
    "3. Else print balance is insufficient."
   ]
  },
  {
   "cell_type": "code",
   "execution_count": 2,
   "id": "4c13e66b",
   "metadata": {},
   "outputs": [
    {
     "name": "stdout",
     "output_type": "stream",
     "text": [
      "Enter the bank balance: 30000\n",
      "Enter the withdrawal amount: 20000\n",
      "Balance is sufficient to withdraw\n"
     ]
    }
   ],
   "source": [
    "bank_balance = int(input(\"Enter the bank balance: \"))\n",
    "withdrawal_amount = int(input(\"Enter the withdrawal amount: \"))\n",
    "if(withdrawal_amount<=bank_balance):\n",
    "    print(\"Balance is sufficient to withdraw\")\n",
    "else:\n",
    "    print(\"Balance is insufficient\")"
   ]
  },
  {
   "cell_type": "markdown",
   "id": "b1bc99d3",
   "metadata": {},
   "source": [
    "# 8.\tScenario: A system needs to verify whether a given dataset contains duplicate entries.\n",
    "#  Write logic to check whether a given list contains duplicate values.\n",
    "\n",
    "Logic:\n",
    "1. Get the given list.\n",
    "2. convert the list into set and store as list_2.\n",
    "3. If two lists are equal, print the list doesn't contains duplicates.\n",
    "4. Else print the list contains duplicates."
   ]
  },
  {
   "cell_type": "code",
   "execution_count": 5,
   "id": "1ae11006",
   "metadata": {},
   "outputs": [
    {
     "name": "stdout",
     "output_type": "stream",
     "text": [
      "enter the numbers: 3 4 5 5 6 7 8\n",
      "List contains duplicates\n"
     ]
    }
   ],
   "source": [
    "number_list = list(map(int,input(\"enter the numbers: \").split()))\n",
    "list_2 = list(set(number_list))\n",
    "if(number_list==list_2):\n",
    "    print(\"List doesn't contains duplicates\")\n",
    "else:\n",
    "    print(\"List contains duplicates\")"
   ]
  },
  {
   "cell_type": "markdown",
   "id": "7206a8f7",
   "metadata": {},
   "source": [
    "# 9.\tScenario: A digital calculator includes a feature to sum the digits of a number for verification purposes.\n",
    "#  Write logic to calculate the sum of all digits in a given integer.\n",
    "\n",
    "Logic:\n",
    "1. Get the number.\n",
    "2. Initilaize the sum variable as zero.\n",
    "3. Split the number into digit and store in the list.\n",
    "4. in For loop add each and every digit with sum.\n",
    "5. Print the sum."
   ]
  },
  {
   "cell_type": "code",
   "execution_count": 9,
   "id": "b101cb7e",
   "metadata": {},
   "outputs": [
    {
     "name": "stdout",
     "output_type": "stream",
     "text": [
      "Enter the number: 1342\n",
      "Summation of the digit is:  10\n"
     ]
    }
   ],
   "source": [
    "num = int(input(\"Enter the number: \"))\n",
    "sum = 0\n",
    "while num>0:\n",
    "    digit = num % 10 \n",
    "    sum = sum + digit\n",
    "    num = num // 10\n",
    "\n",
    "print(\"Summation of the digit is: \",sum)\n",
    "    "
   ]
  },
  {
   "cell_type": "markdown",
   "id": "9d7b6033",
   "metadata": {},
   "source": [
    "# 10.\tScenario: A language-learning app wants to verify whether a given sentence is a pangram (contains every letter of the alphabet at least once).\n",
    "#  Write logic to check if a given sentence is a pangram.\n",
    "\n",
    "Logic:\n",
    "1. Get the sentence.\n",
    "2. Import string and Create a set of all lowercase alphabets\n",
    "3. Convert sentence to lowercase and make a set of its characters\n",
    "4. Check if all alphabets are present then print given sentence is pangram.\n",
    "5. Else print the given sentence is not pangram."
   ]
  },
  {
   "cell_type": "code",
   "execution_count": 12,
   "id": "23f583e7",
   "metadata": {},
   "outputs": [
    {
     "name": "stdout",
     "output_type": "stream",
     "text": [
      "Enter the sentence: hello world I am python\n",
      "Given sentence is not pangram\n"
     ]
    }
   ],
   "source": [
    "import string\n",
    "sentence = input(\"Enter the sentence: \")\n",
    "alphabet_set = set(string.ascii_lowercase)\n",
    "sentence_set = set(sentence.lower())\n",
    "if(alphabet_set.issubset(sentence_set)):\n",
    "    print(\"Given sentence is pangram\")\n",
    "else:\n",
    "     print(\"Given sentence is not pangram\")"
   ]
  },
  {
   "cell_type": "code",
   "execution_count": null,
   "id": "799ab2c2",
   "metadata": {},
   "outputs": [],
   "source": []
  }
 ],
 "metadata": {
  "kernelspec": {
   "display_name": "Python 3 (ipykernel)",
   "language": "python",
   "name": "python3"
  },
  "language_info": {
   "codemirror_mode": {
    "name": "ipython",
    "version": 3
   },
   "file_extension": ".py",
   "mimetype": "text/x-python",
   "name": "python",
   "nbconvert_exporter": "python",
   "pygments_lexer": "ipython3",
   "version": "3.9.7"
  }
 },
 "nbformat": 4,
 "nbformat_minor": 5
}
