{
 "cells": [
  {
   "cell_type": "markdown",
   "id": "d328a82d",
   "metadata": {},
   "source": [
    "# 1.Scenario: A user is required to enter a valid number in a form, but users sometimes input invalid data.\n",
    "#  Write logic to repeatedly prompt the user until they enter a valid integer.\n",
    "\n",
    "Logic:\n",
    "1. Get the number\n",
    "2. Inside the Try block : until user giving valid input integer it will run and break \n",
    "3. Except print the Value error."
   ]
  },
  {
   "cell_type": "markdown",
   "id": "72ed0cfd",
   "metadata": {},
   "source": [
    "# 2.Scenario: A data analysis tool processes a list of numbers and needs to identify the most frequently occurring value.\n",
    "#  Write logic to find the most frequently occurring number in a given list.\n",
    "\n",
    "Logic:\n",
    "1. Get the numbers.\n",
    "2. Initialize the count variable with 0\n",
    "3. For loop (later)"
   ]
  },
  {
   "cell_type": "markdown",
   "id": "41835a3f",
   "metadata": {},
   "source": [
    "# 3.\tScenario: A text-processing application needs to compare words and check if they are anagrams (contain the same letters in a different order).\n",
    "#  Write logic to determine whether two given strings are anagrams.\n",
    "\n",
    "Logic:\n",
    "1. Get two strings.\n",
    "2. Remove spaces and convert to the lowercase.\n",
    "3. If Sorted strings equal then print two strings are anagrams.\n",
    "4. Else print two strings are not anagrams."
   ]
  },
  {
   "cell_type": "markdown",
   "id": "8e50bb93",
   "metadata": {},
   "source": [
    "# 4.\tScenario: A speech analysis program needs to count the number of vowel sounds in a given input.\n",
    "#  Write logic to count the number of vowels in a given string.\n",
    "\n",
    "Logic:\n",
    "1. Get the text.\n",
    "2. Convert into the list.\n",
    "3. Initialize the count variable as 0\n",
    "4. In for loop, if each character is equal to the vowel letters which are [a,e,i,o,u] then increase the count by 1\n",
    "5. Print the value of count."
   ]
  },
  {
   "cell_type": "markdown",
   "id": "54181cf9",
   "metadata": {},
   "source": [
    "# 5.\tScenario: A text-editing software includes a feature to reverse the order of words in a sentence for stylistic effects.\n",
    "#  Write logic to reverse the order of words in a sentence while keeping the words themselves intact.\n",
    "\n",
    "Logic:\n",
    "1. Get the sentence.\n",
    "2. Split into words and store in the list.\n",
    "3. Reverse the list.\n",
    "4. And join to the reversed_words list.\n",
    "5. print the reversed_words list."
   ]
  },
  {
   "cell_type": "markdown",
   "id": "50538041",
   "metadata": {},
   "source": [
    "# 6.\tScenario: A missing number is detected in a sequence of values stored in a database.\n",
    "#  Write logic to find the missing number in a list containing n-1 numbers from 1 to n.\n",
    "\n",
    "Logic:\n",
    "1. List = [1,2,4,5]\n",
    "2. Get the sum of the List and store sum_of_given_list\n",
    "2. Get the length of the List which is n-1\n",
    "3. Get the sum of n using triangular equation = n(n+1)//2 and store in the sum_of_original_list\n",
    "4. Get the missing number by sum_of_original_list - sum_of_given_list\n",
    "5. print the missing number."
   ]
  },
  {
   "cell_type": "markdown",
   "id": "9fbe851e",
   "metadata": {},
   "source": [
    "# 7.\tScenario: An ATM machine processes withdrawal requests and needs to ensure that users cannot withdraw more than their account balance.\n",
    "#  Write logic to allow a withdrawal only if the balance is sufficient.\n",
    "\n",
    "Logic:\n",
    "1. Get the Bank_balance.\n",
    "2. If withdraw_amount less than or equal to Bank_balance print blance is sufficient.\n",
    "3. Else print balance is insufficient."
   ]
  },
  {
   "cell_type": "markdown",
   "id": "b1bc99d3",
   "metadata": {},
   "source": [
    "# 8.\tScenario: A system needs to verify whether a given dataset contains duplicate entries.\n",
    "#  Write logic to check whether a given list contains duplicate values.\n",
    "\n",
    "Logic:\n",
    "1. Get the given list.\n",
    "2. convert the list into set and store as list_2.\n",
    "3. If two lists are equal, print the list doesn't contains duplicates.\n",
    "4. Else print the list contains duplicates."
   ]
  },
  {
   "cell_type": "markdown",
   "id": "7206a8f7",
   "metadata": {},
   "source": [
    "# 9.\tScenario: A digital calculator includes a feature to sum the digits of a number for verification purposes.\n",
    "#  Write logic to calculate the sum of all digits in a given integer.\n",
    "\n",
    "Logic:\n",
    "1. Get the number.\n",
    "2. Initilaize the sum variable as zero.\n",
    "3. Split the number into digit and store in the list.\n",
    "4. in For loop add each and every digit with sum.\n",
    "5. Print the sum."
   ]
  },
  {
   "cell_type": "markdown",
   "id": "9d7b6033",
   "metadata": {},
   "source": [
    "# 10.\tScenario: A language-learning app wants to verify whether a given sentence is a pangram (contains every letter of the alphabet at least once).\n",
    "#  Write logic to check if a given sentence is a pangram.\n",
    "\n",
    "Logic:\n",
    "1. Get the sentence.\n",
    "2. Remove spaces and split into chracters and store in list.\n",
    "3. In for loop, if all the character of vowels exist in the charcter lsit Then print given sentence is a pangram. And break.\n",
    "4. Else print the given sentence is not pangram."
   ]
  },
  {
   "cell_type": "code",
   "execution_count": null,
   "id": "23f583e7",
   "metadata": {},
   "outputs": [],
   "source": []
  }
 ],
 "metadata": {
  "kernelspec": {
   "display_name": "Python 3 (ipykernel)",
   "language": "python",
   "name": "python3"
  },
  "language_info": {
   "codemirror_mode": {
    "name": "ipython",
    "version": 3
   },
   "file_extension": ".py",
   "mimetype": "text/x-python",
   "name": "python",
   "nbconvert_exporter": "python",
   "pygments_lexer": "ipython3",
   "version": "3.9.7"
  }
 },
 "nbformat": 4,
 "nbformat_minor": 5
}
