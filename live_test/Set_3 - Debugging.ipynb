{
 "cells": [
  {
   "cell_type": "code",
   "execution_count": 2,
   "id": "01a7f586",
   "metadata": {},
   "outputs": [],
   "source": [
    "#1.What is wrong with the following function definition, and how do you fix it?\n",
    "\n",
    "\n",
    "#def say_hello(name)\n",
    " #   print(\"Hello, \" + name)\n",
    "    \n",
    "# Ans : Missing colon\n",
    "def say_hello(name):\n",
    "    print(\"Hello, \" + name)"
   ]
  },
  {
   "cell_type": "code",
   "execution_count": 3,
   "id": "4b9818b8",
   "metadata": {},
   "outputs": [
    {
     "name": "stdout",
     "output_type": "stream",
     "text": [
      "I am  25  years old\n"
     ]
    }
   ],
   "source": [
    "#2.What error will occur in the following code, and how do you fix it?\n",
    "\n",
    "\n",
    "#age = 25\n",
    "#print(\"I am \" + age + \" years old\")\n",
    "#ans: Can't concatanate string and integer. So will use coma there.\n",
    "\n",
    "age = 25\n",
    "print(\"I am \" ,age, \" years old\")"
   ]
  },
  {
   "cell_type": "code",
   "execution_count": 11,
   "id": "a7a98439",
   "metadata": {},
   "outputs": [
    {
     "name": "stdout",
     "output_type": "stream",
     "text": [
      "Hello\n"
     ]
    }
   ],
   "source": [
    "#3.Question:\n",
    "#What is the issue with the following code?\n",
    "\n",
    "#def greet():\n",
    "#    message = \"Hello\"\n",
    "#print(message)\n",
    "\n",
    "#ans: message is inside the function. so we cannot call as a parameter. Instead of that we can call the function to print \"Hello\"\n",
    "\n",
    "def greet():\n",
    "    message = \"Hello\"\n",
    "    print(message)\n",
    "    \n",
    "greet()"
   ]
  },
  {
   "cell_type": "code",
   "execution_count": 12,
   "id": "d474f7b7",
   "metadata": {},
   "outputs": [
    {
     "name": "stdout",
     "output_type": "stream",
     "text": [
      "12\n"
     ]
    }
   ],
   "source": [
    "##4.What error will occur in the following code, and how do you fix it?\n",
    "\n",
    "# def add(a, b):\n",
    "#     return a + b\n",
    "\n",
    "# print(add(5))\n",
    "\n",
    "#ans: There are two parameters in the function and we passed only one attrinute.\n",
    "#4.What error will occur in the following code, and how do you fix it?\n",
    "\n",
    "def add(a, b):\n",
    "    return a + b\n",
    "\n",
    "print(add(5,7))"
   ]
  },
  {
   "cell_type": "code",
   "execution_count": 16,
   "id": "508d9c7c",
   "metadata": {},
   "outputs": [
    {
     "data": {
      "text/plain": [
       "False"
      ]
     },
     "execution_count": 16,
     "metadata": {},
     "output_type": "execute_result"
    }
   ],
   "source": [
    "#5.What is wrong with this code?\n",
    "\n",
    "# def is_even(n):\n",
    "#     if n % 2 == 1:\n",
    "#         return True\n",
    "#     else:\n",
    "#         return False\n",
    "\n",
    "#ans: To get even number n%2==0\n",
    "\n",
    "def is_even(n):\n",
    "    if n % 2 == 1:\n",
    "        return False\n",
    "    else:\n",
    "        return True\n",
    "\n",
    "is_even(5)"
   ]
  },
  {
   "cell_type": "code",
   "execution_count": 19,
   "id": "2f8c38ab",
   "metadata": {},
   "outputs": [],
   "source": [
    "#6.What happens when you run this code?\n",
    "\n",
    "# num = int(\"10a\")\n",
    "# print(num)\n",
    "# ans: 10a cannot be type cast as an integer. value error occured"
   ]
  },
  {
   "cell_type": "code",
   "execution_count": 27,
   "id": "5bd9fdf6",
   "metadata": {},
   "outputs": [
    {
     "data": {
      "text/plain": [
       "NoneType"
      ]
     },
     "execution_count": 27,
     "metadata": {},
     "output_type": "execute_result"
    }
   ],
   "source": [
    "#7.What will happen when you run the following code?\n",
    "\n",
    "#numbers = [1, 2, 3, 4]\n",
    "# numbers.sort().reverse()\n",
    "# print(numbers)\n",
    "\n",
    "#ans: after the numbers.sort() it is a NoneType. So it doesn't have reverse attribute\n",
    "type(numbers.sort())\n"
   ]
  },
  {
   "cell_type": "code",
   "execution_count": 30,
   "id": "c9b60323",
   "metadata": {},
   "outputs": [],
   "source": [
    "#8.What is the issue with this code?\n",
    "\n",
    "\n",
    "# numbers = [1, 2, 3]\n",
    "# numbers = numbers.append(4)\n",
    "# print(numbers)\n",
    "\n",
    "# ans: after the numbers.append(4) it is a NoneType. "
   ]
  },
  {
   "cell_type": "code",
   "execution_count": 32,
   "id": "6a3f9a81",
   "metadata": {},
   "outputs": [],
   "source": [
    "#9.What will happen when you run the following code?\n",
    "\n",
    "# count = 10\n",
    "\n",
    "# def increment():\n",
    "#     count += 1\n",
    "#     print(count)\n",
    "\n",
    "# increment()\n",
    "# ans: Unbound local error. count is global variable"
   ]
  },
  {
   "cell_type": "code",
   "execution_count": 34,
   "id": "b48798b6",
   "metadata": {},
   "outputs": [],
   "source": [
    "#10.What error will occur in the following code?\n",
    "\n",
    "# text = \"Python\"\n",
    "# print(text[10])\n",
    "\n",
    "#ans: IndexError. Python has a range between [1,7]"
   ]
  },
  {
   "cell_type": "code",
   "execution_count": null,
   "id": "0d5a6313",
   "metadata": {},
   "outputs": [],
   "source": []
  }
 ],
 "metadata": {
  "kernelspec": {
   "display_name": "Python 3 (ipykernel)",
   "language": "python",
   "name": "python3"
  },
  "language_info": {
   "codemirror_mode": {
    "name": "ipython",
    "version": 3
   },
   "file_extension": ".py",
   "mimetype": "text/x-python",
   "name": "python",
   "nbconvert_exporter": "python",
   "pygments_lexer": "ipython3",
   "version": "3.9.7"
  }
 },
 "nbformat": 4,
 "nbformat_minor": 5
}
