{
 "cells": [
  {
   "cell_type": "code",
   "execution_count": 1,
   "id": "6e9f64b4",
   "metadata": {},
   "outputs": [
    {
     "name": "stdout",
     "output_type": "stream",
     "text": [
      "Welcome to Assignment-1\n"
     ]
    }
   ],
   "source": [
    "print(\"Welcome to Assignment-1\")"
   ]
  },
  {
   "cell_type": "code",
   "execution_count": 1,
   "id": "5e561bc4",
   "metadata": {},
   "outputs": [
    {
     "name": "stdout",
     "output_type": "stream",
     "text": [
      "Num1= 10\n",
      "Num2= 30\n",
      "Add=  40\n"
     ]
    }
   ],
   "source": [
    "num1=int(input(\"Num1= \"))\n",
    "num2=int(input(\"Num2= \"))\n",
    "print(\"Add= \",num1+num2)"
   ]
  },
  {
   "cell_type": "code",
   "execution_count": 2,
   "id": "f5973084",
   "metadata": {},
   "outputs": [],
   "source": [
    "#Body Mass Index"
   ]
  },
  {
   "cell_type": "code",
   "execution_count": 9,
   "id": "47275ba7",
   "metadata": {},
   "outputs": [
    {
     "name": "stdout",
     "output_type": "stream",
     "text": [
      "Enter the BMI Index:34\n",
      "Obese class 1\n"
     ]
    }
   ],
   "source": [
    "bmi=float(input(\"Enter the BMI Index:\"))\n",
    "if(bmi<18.5):\n",
    "    print(\"Underweight\")\n",
    "elif(bmi<25.0):\n",
    "    print(\"Normal range\")\n",
    "elif(bmi<30.0):\n",
    "    print(\"Overweight\")\n",
    "elif(bmi<35.0):\n",
    "    print(\"Obese class 1\")\n",
    "elif(bmi<40.0):\n",
    "    print(\"Obese class 2\")\n",
    "else:\n",
    "    print(\"Obese class 3\")"
   ]
  },
  {
   "cell_type": "code",
   "execution_count": null,
   "id": "12b3a1f0",
   "metadata": {},
   "outputs": [],
   "source": []
  }
 ],
 "metadata": {
  "kernelspec": {
   "display_name": "Python 3 (ipykernel)",
   "language": "python",
   "name": "python3"
  },
  "language_info": {
   "codemirror_mode": {
    "name": "ipython",
    "version": 3
   },
   "file_extension": ".py",
   "mimetype": "text/x-python",
   "name": "python",
   "nbconvert_exporter": "python",
   "pygments_lexer": "ipython3",
   "version": "3.9.7"
  }
 },
 "nbformat": 4,
 "nbformat_minor": 5
}
